{
 "cells": [
  {
   "cell_type": "markdown",
   "metadata": {},
   "source": [
    "前処理"
   ]
  },
  {
   "cell_type": "code",
   "execution_count": 2,
   "metadata": {},
   "outputs": [
    {
     "name": "stdout",
     "output_type": "stream",
     "text": [
      "2022\n",
      "2021\n",
      "2020\n",
      "2019\n",
      "2018\n",
      "2017\n",
      "2016\n",
      "2015\n",
      "2014\n"
     ]
    }
   ],
   "source": [
    "import pandas as pd\n",
    "\n",
    "columns = [\"着順\", \"枠番\", \"馬番\", \"馬名\", \"性齢\", \"斤量\", \"騎手\", \"タイム\", \"着差\", \"単勝\", \"人気\", \"馬体重\", \"調教師\"]\n",
    "year_list = [\"2022\", \"2021\", \"2020\", \"2019\", \"2018\", \"2017\", \"2016\", \"2015\", \"2014\"]\n",
    "#year_list = [\"2023\"]\n",
    "\n",
    "\n",
    "merged_df = pd.DataFrame(columns=columns)\n",
    "\n",
    "for year in year_list:\n",
    "    print(year)\n",
    "    file_path = \"../data/result/\" + year + \"_data.csv\"\n",
    "    df = pd.read_csv(file_path, names=columns)\n",
    "    merged_df = pd.concat([merged_df, df])\n",
    "\n",
    "#データの整形\n",
    "merged_df[['性別', '年齢']] = merged_df['性齢'].str.extract(r'([牡牝])(\\d+)')\n",
    "merged_df[\"性別\"].replace([\"牡\", \"牝\"], [0, 1], inplace=True)\n",
    "values_to_remove = ['中', '取', '除', '4(降)', '5(降)']\n",
    "merged_df = merged_df[~merged_df['着順'].isin(values_to_remove)]\n",
    "merged_df.drop(columns=['馬番', '性齢', '馬体重', 'タイム', '着差', '単勝', '調教師'], inplace=True)\n",
    "#欠損値埋め\n",
    "merged_df['性別'].fillna(0, inplace=True)\n",
    "merged_df['年齢'].fillna(3, inplace=True)\n",
    "#型変換\n",
    "merged_df['年齢'] = merged_df['年齢'].astype(int)\n",
    "merged_df['着順'] = merged_df['着順'].astype(int)\n",
    "merged_df.loc[merged_df['着順'] > 3, '着順'] = 0\n",
    "merged_df['枠番'] = merged_df['枠番'].astype(int)\n",
    "\n",
    "unique_horses = merged_df['馬名'].unique()\n",
    "unique_jockeys = merged_df['騎手'].unique()\n",
    "horse_to_number = {horse: idx for idx, horse in enumerate(unique_horses, start=1)}\n",
    "jockey_to_number = {jockey: idx for idx, jockey in enumerate(unique_jockeys, start=1)}\n",
    "\n",
    "# 馬名と騎手名を数字に置換\n",
    "merged_df['馬名'] = merged_df['馬名'].map(horse_to_number)\n",
    "merged_df['騎手'] = merged_df['騎手'].map(jockey_to_number)\n",
    "\n",
    "# 数字と馬名・騎手名の対応関係を保存するデータフレームを作成\n",
    "horse_number_df = pd.DataFrame(list(horse_to_number.items()), columns=['馬名', '馬名数字'])\n",
    "jockey_number_df = pd.DataFrame(list(jockey_to_number.items()), columns=['騎手', '騎手数字'])\n",
    "\n",
    "# CSVファイルに対応関係を保存\n",
    "horse_number_df.to_csv('horse_number_mapping.csv', index=False)\n",
    "jockey_number_df.to_csv('jockey_number_mapping.csv', index=False)"
   ]
  },
  {
   "cell_type": "markdown",
   "metadata": {},
   "source": [
    "CSV出力"
   ]
  },
  {
   "cell_type": "code",
   "execution_count": 3,
   "metadata": {},
   "outputs": [],
   "source": [
    "merged_df.to_csv('train.csv', encoding='utf-8', index=False)"
   ]
  },
  {
   "cell_type": "code",
   "execution_count": 5,
   "metadata": {},
   "outputs": [
    {
     "data": {
      "text/plain": [
       "着順\n",
       "0    6806\n",
       "1     582\n",
       "3     580\n",
       "2     579\n",
       "Name: count, dtype: int64"
      ]
     },
     "execution_count": 5,
     "metadata": {},
     "output_type": "execute_result"
    }
   ],
   "source": [
    "merged_df['着順'].value_counts()"
   ]
  }
 ],
 "metadata": {
  "kernelspec": {
   "display_name": "venv",
   "language": "python",
   "name": "python3"
  },
  "language_info": {
   "codemirror_mode": {
    "name": "ipython",
    "version": 3
   },
   "file_extension": ".py",
   "mimetype": "text/x-python",
   "name": "python",
   "nbconvert_exporter": "python",
   "pygments_lexer": "ipython3",
   "version": "3.9.5"
  },
  "orig_nbformat": 4
 },
 "nbformat": 4,
 "nbformat_minor": 2
}
