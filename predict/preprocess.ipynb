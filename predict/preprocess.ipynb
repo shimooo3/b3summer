{
 "cells": [
  {
   "cell_type": "markdown",
   "metadata": {},
   "source": [
    "前処理"
   ]
  },
  {
   "cell_type": "code",
   "execution_count": 13,
   "metadata": {},
   "outputs": [
    {
     "name": "stdout",
     "output_type": "stream",
     "text": [
      "2022\n",
      "2021\n",
      "2020\n",
      "2019\n",
      "2018\n",
      "2017\n",
      "2016\n",
      "2015\n",
      "2014\n"
     ]
    }
   ],
   "source": [
    "import pandas as pd\n",
    "from datetime import datetime, time\n",
    "\n",
    "columns = [\"着順\", \"枠番\", \"馬番\", \"馬名\", \"性齢\", \"斤量\", \"騎手\", \"タイム\", \"着差\", \"単勝\", \"人気\", \"馬体重\", \"調教師\"]\n",
    "year_list = [\"2022\", \"2021\", \"2020\", \"2019\", \"2018\", \"2017\", \"2016\", \"2015\", \"2014\"]\n",
    "#year_list = [\"2023\"]\n",
    "\n",
    "\n",
    "merged_df = pd.DataFrame(columns=columns)\n",
    "\n",
    "for year in year_list:\n",
    "    print(year)\n",
    "    file_path = \"../data/result/\" + year + \"_data.csv\"\n",
    "    df = pd.read_csv(file_path, names=columns)\n",
    "    merged_df = pd.concat([merged_df, df])\n",
    "\n",
    "#データの整形\n",
    "merged_df[['性別', '年齢']] = merged_df['性齢'].str.extract(r'([牡牝])(\\d+)')\n",
    "merged_df[\"性別\"].replace([\"牡\", \"牝\"], [0, 1], inplace=True)\n",
    "merged_df[['出走前体重', '出走後変化']] = merged_df['馬体重'].str.extract(r'(\\d+)\\(([-+]?\\d+)\\)')\n",
    "values_to_remove = ['中', '取', '除', '4(降)', '5(降)']\n",
    "merged_df = merged_df[~merged_df['着順'].isin(values_to_remove)]\n",
    "merged_df.drop(columns=['馬番', '性齢', '馬体重', '着差', '調教師'], inplace=True)\n",
    "#欠損値埋め\n",
    "merged_df['タイム'].fillna(-1, inplace=True)\n",
    "merged_df['性別'].fillna(-1, inplace=True)\n",
    "merged_df['年齢'].fillna(-1, inplace=True)\n",
    "merged_df['出走前体重'].fillna(480, inplace=True)\n",
    "merged_df['出走後変化'].fillna(0, inplace=True)\n",
    "#型変換\n",
    "merged_df['年齢'] = merged_df['年齢'].astype(int)\n",
    "merged_df['出走前体重'] = merged_df['出走前体重'].astype(int)\n",
    "merged_df['出走後変化'] = merged_df['出走後変化'].astype(int)\n",
    "merged_df['着順'] = merged_df['着順'].astype(int)\n",
    "merged_df.loc[merged_df['着順'] > 3, '着順'] = 0\n",
    "merged_df['枠番'] = merged_df['枠番'].astype(int)\n",
    "merged_df['単勝'] = merged_df['単勝'].astype(float)\n",
    "merged_df['タイム'] = merged_df['タイム'].apply(lambda x: datetime.strptime(x, '%M:%S.%f').time() if isinstance(x, str) else x)\n",
    "merged_df['馬名'] = merged_df['馬名'].astype('category').cat.codes\n",
    "merged_df['騎手'] = merged_df['騎手'].astype('category').cat.codes\n",
    "merged_df['タイム'] = merged_df['タイム'].astype('category').cat.codes"
   ]
  },
  {
   "cell_type": "markdown",
   "metadata": {},
   "source": [
    "CSV出力"
   ]
  },
  {
   "cell_type": "code",
   "execution_count": 14,
   "metadata": {},
   "outputs": [],
   "source": [
    "merged_df.to_csv('train.csv', encoding='utf-8', index=False)"
   ]
  }
 ],
 "metadata": {
  "kernelspec": {
   "display_name": "venv",
   "language": "python",
   "name": "python3"
  },
  "language_info": {
   "codemirror_mode": {
    "name": "ipython",
    "version": 3
   },
   "file_extension": ".py",
   "mimetype": "text/x-python",
   "name": "python",
   "nbconvert_exporter": "python",
   "pygments_lexer": "ipython3",
   "version": "3.9.5"
  },
  "orig_nbformat": 4
 },
 "nbformat": 4,
 "nbformat_minor": 2
}
